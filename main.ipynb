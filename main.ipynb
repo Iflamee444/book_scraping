{
 "cells": [
  {
   "cell_type": "markdown",
   "id": "8f6f0c85",
   "metadata": {},
   "source": [
    "# Partie 1 : Access the main website"
   ]
  },
  {
   "cell_type": "markdown",
   "id": "30b7f553",
   "metadata": {},
   "source": [
    "## Basic import"
   ]
  },
  {
   "cell_type": "code",
   "execution_count": 99,
   "id": "2d96fa4b",
   "metadata": {},
   "outputs": [],
   "source": [
    "import requests as rq\n",
    "import pandas as pd\n",
    "from scrapy import Selector\n",
    "import re\n",
    "import os"
   ]
  },
  {
   "cell_type": "code",
   "execution_count": 100,
   "id": "873f8bb9",
   "metadata": {},
   "outputs": [],
   "source": [
    "number_words = {\n",
    "    \"zero\": \"0\",\n",
    "    \"one\": \"1\",\n",
    "    \"two\": \"2\",\n",
    "    \"three\": \"3\",\n",
    "    \"four\": \"4\",\n",
    "    \"five\": \"5\",\n",
    "    \"six\": \"6\",\n",
    "    \"seven\": \"7\",\n",
    "    \"eight\": \"8\",\n",
    "    \"nine\": \"9\",\n",
    "    \"ten\": \"10\"\n",
    "}"
   ]
  },
  {
   "cell_type": "markdown",
   "id": "7e3a614b",
   "metadata": {},
   "source": [
    "## Acces the website"
   ]
  },
  {
   "cell_type": "code",
   "execution_count": 101,
   "id": "fa7fca49",
   "metadata": {},
   "outputs": [
    {
     "data": {
      "text/plain": [
       "<Response [200]>"
      ]
     },
     "execution_count": 101,
     "metadata": {},
     "output_type": "execute_result"
    }
   ],
   "source": [
    "main_url = \"https://books.toscrape.com/\"\n",
    "\n",
    "main_response = rq.get(main_url)\n",
    "\n",
    "main_response"
   ]
  },
  {
   "cell_type": "markdown",
   "id": "21ee748c",
   "metadata": {},
   "source": [
    "## Get the list of categories"
   ]
  },
  {
   "cell_type": "code",
   "execution_count": null,
   "id": "d833c93f",
   "metadata": {},
   "outputs": [],
   "source": [
    "main_selector = Selector(text=main_response.text)\n",
    "\n",
    "categorie_url_list_crude = main_selector.css(\"ul.nav-list ul li a::attr(href)\").getall()\n",
    "categorie_url_list = [u.replace('index.html', '') for u in categorie_url_list_crude]"
   ]
  },
  {
   "cell_type": "markdown",
   "id": "f812fe24",
   "metadata": {},
   "source": [
    "## Access each links categories and books"
   ]
  },
  {
   "cell_type": "code",
   "execution_count": null,
   "id": "b25995a3",
   "metadata": {},
   "outputs": [],
   "source": [
    "def book_linker(link: str) -> list:\n",
    "    response = rq.get(link)\n",
    "    selector = Selector(text=response.text)\n",
    "\n",
    "    book_link_list = selector.css(\"article.product_pod h3 a::attr(href)\").getall()\n",
    "\n",
    "    # print(book_link_list)\n",
    "    return book_link_list\n",
    "\n",
    "# test_list = book_linker(\"https://books.toscrape.com/catalogue/category/books/travel_2/index.html\")"
   ]
  },
  {
   "cell_type": "code",
   "execution_count": 104,
   "id": "b367a5f5",
   "metadata": {},
   "outputs": [],
   "source": [
    "def book_link_access(book_link,url_categorie):\n",
    "    clean_link = f\"{main_url}{url_categorie}{book_link}\"\n",
    "    return clean_link\n",
    "    # print(clean_link)\n",
    "\n",
    "\n",
    "# for link in test_list:\n",
    "#    book_link_access(link)"
   ]
  },
  {
   "cell_type": "code",
   "execution_count": 105,
   "id": "e5331316",
   "metadata": {},
   "outputs": [],
   "source": [
    "def image_link_access(link):\n",
    "    return f\"{main_url}{re.sub(r'^(\\.\\./)+', '',link)}\"\n",
    "\n",
    "# print(clean_link(\"../../../1000-places-to-see-before-you-die_1/index.html\"))"
   ]
  },
  {
   "cell_type": "code",
   "execution_count": 106,
   "id": "c500501e",
   "metadata": {},
   "outputs": [],
   "source": [
    "def download_image(link,categorie,upc):\n",
    "    img_folder = f\"output/image/{categorie}\"\n",
    "    os.makedirs(img_folder, exist_ok=True)  \n",
    "\n",
    "    img_filename = f\"{upc}.jpg\"\n",
    "    img_path = os.path.join(img_folder, img_filename)\n",
    "    img_data = rq.get(link, stream=True)\n",
    "    with open(img_path, \"wb\") as f:\n",
    "        for chunk in img_data.iter_content(1024):\n",
    "            f.write(chunk)"
   ]
  },
  {
   "cell_type": "code",
   "execution_count": 107,
   "id": "6f53fbb2",
   "metadata": {},
   "outputs": [],
   "source": [
    "\n",
    "def book_scrapper(book_link : str) -> dict:\n",
    "    response = rq.get(book_link)\n",
    "    selector = Selector(text=response.text)\n",
    "\n",
    "    # Titre\n",
    "    title = selector.css(\".product_main h1::text\").get()\n",
    "    # Prix\n",
    "    price = selector.css(\".product_main .price_color::text\").get().replace(\"Â\",\"\").replace(\"£\",\"\")\n",
    "    # Disponibilité\n",
    "    availability = selector.css(\".product_main .availability::text\").getall()[1].strip()\n",
    "    # Note\n",
    "    note_class = selector.css(\".product_main .star-rating\").attrib.get(\"class\", \"\")\n",
    "    note = note_class.replace(\"star-rating\", \"\").strip()\n",
    "    note = number_words.get(note.lower())\n",
    "    # Url Image\n",
    "    url_image = selector.css(\".carousel-inner img::attr(src)\").get()\n",
    "    # UPC\n",
    "    upc = selector.css(\"table.table.table-striped tr:nth-child(1) td::text\").get()\n",
    "    # Catégorie\n",
    "    categorie = selector.css(\"ul.breadcrumb li a::text\").getall()[2]\n",
    "    # Tout dans un dictionnaire\n",
    "    book_detail = {\n",
    "    \"titre\": title,\n",
    "    \"prix\": price,\n",
    "    \"disponibilite\": availability,\n",
    "    \"note\": note,\n",
    "    \"url\": book_link,\n",
    "    \"url_image\": image_link_access(url_image),\n",
    "    \"upc\": upc,\n",
    "    \"categorie\": categorie,\n",
    "    }\n",
    "\n",
    "    # Télécharger les images\n",
    "    download_image(book_detail[\"url_image\"],book_detail[\"categorie\"],book_detail[\"upc\"])\n",
    "\n",
    "    return book_detail\n",
    "\n",
    "# book_scrapper(\"https://books.toscrape.com/catalogue/its-only-the-himalayas_981/index.html\")\n"
   ]
  },
  {
   "cell_type": "code",
   "execution_count": 111,
   "id": "281244bb",
   "metadata": {},
   "outputs": [],
   "source": [
    "def extract_category_from_url(url):\n",
    "    return url.split(\"/\")[-2].split(\"_\")[0]"
   ]
  },
  {
   "cell_type": "code",
   "execution_count": 118,
   "id": "5e2a889d",
   "metadata": {},
   "outputs": [],
   "source": [
    "def export_to_csv(data_list, category_url):\n",
    "    category_name = extract_category_from_url(category_url)\n",
    "    folder = \"output/csv\"\n",
    "    os.makedirs(folder, exist_ok=True)\n",
    "    file_path = os.path.join(folder, f\"category_{category_name}.csv\")\n",
    "\n",
    "    df = pd.DataFrame(data_list)\n",
    "    df.to_csv(file_path, index=False, sep=\";\", encoding=\"utf-8-sig\")\n",
    "\n",
    "# export_to_csv(book_scrapper(\"https://books.toscrape.com/catalogue/its-only-the-himalayas_981/index.html\"))"
   ]
  },
  {
   "cell_type": "code",
   "execution_count": null,
   "id": "3128be44",
   "metadata": {},
   "outputs": [],
   "source": [
    "for url_categorie in categorie_url_list:\n",
    "    page_number = 1\n",
    "    has_next = True\n",
    "\n",
    "    all_category_books = []\n",
    "    while has_next:\n",
    "\n",
    "        if page_number == 1:\n",
    "            page_url = f\"{main_url}{url_categorie}index.html\"\n",
    "        else:\n",
    "            page_url = f\"{main_url}{url_categorie}page-{page_number}.html\"\n",
    "\n",
    "        # Recuperer les liens des livres\n",
    "        book_link_list = book_linker(page_url)\n",
    "        # print(book_link_list)\n",
    "\n",
    "        # Nettoyer les liens\n",
    "        book_link_list_clean = [book_link_access(book_link,url_categorie) for book_link in book_link_list]\n",
    "        # print(book_link_list_clean)\n",
    "        \n",
    "        # Scrapper les livres\n",
    "        book_info_list = [book_scrapper(book_link_clean) for book_link_clean in book_link_list_clean]\n",
    "        # print(book_info_list)\n",
    "\n",
    "        page_response = rq.get(page_url)\n",
    "        page_selector = Selector(text=page_response.text)\n",
    "\n",
    "        all_category_books.append(book_info_list)\n",
    "\n",
    "        if page_selector.css(\"li.next a::text\").get() == \"next\":\n",
    "            page_number += 1\n",
    "        else:\n",
    "            has_next = False\n",
    "\n",
    "    flat_books = [book for page_books in all_category_books for book in page_books]\n",
    "    # print(flat_books)\n",
    "\n",
    "    export_to_csv(flat_books,url_categorie)\n",
    "    "
   ]
  }
 ],
 "metadata": {
  "kernelspec": {
   "display_name": "course_python",
   "language": "python",
   "name": "python3"
  },
  "language_info": {
   "codemirror_mode": {
    "name": "ipython",
    "version": 3
   },
   "file_extension": ".py",
   "mimetype": "text/x-python",
   "name": "python",
   "nbconvert_exporter": "python",
   "pygments_lexer": "ipython3",
   "version": "3.13.7"
  }
 },
 "nbformat": 4,
 "nbformat_minor": 5
}
